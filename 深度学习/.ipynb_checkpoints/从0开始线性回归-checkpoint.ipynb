{
 "cells": [
  {
   "cell_type": "markdown",
   "id": "dfaa73f9-932c-4999-a391-c6bbf5fcd91a",
   "metadata": {},
   "source": [
    "# 第一章节\n",
    "## 1.线性回归"
   ]
  },
  {
   "cell_type": "raw",
   "id": "051f728f-3342-4a11-86c7-91a321e4d787",
   "metadata": {},
   "source": [
    "使用autograd来自动求导"
   ]
  },
  {
   "cell_type": "code",
   "execution_count": 2,
   "id": "977400a8-faa5-40af-9ee9-63f1bac8250a",
   "metadata": {},
   "outputs": [],
   "source": [
    "import torch"
   ]
  },
  {
   "cell_type": "code",
   "execution_count": 4,
   "id": "58d8f8d2-f23b-4a62-b511-ba10b680d4a9",
   "metadata": {},
   "outputs": [],
   "source": [
    "import numpy as np"
   ]
  },
  {
   "cell_type": "markdown",
   "id": "9ce4c60b-655d-496c-990a-8b324f2b5299",
   "metadata": {},
   "source": [
    "为变量附上梯度\n",
    "假设我们想对函数 f = 2 * (x ** 2) 求解关于x的导数。先创建变量x, 并赋予初值"
   ]
  },
  {
   "cell_type": "code",
   "execution_count": 29,
   "id": "27f64555-8416-4e6b-9bf5-1a1a0246a7b1",
   "metadata": {},
   "outputs": [],
   "source": [
    "x = torch.tensor([[1., 2.,], [3., 4.]], requires_grad=True)"
   ]
  },
  {
   "cell_type": "code",
   "execution_count": 30,
   "id": "2e5ebdbc-54a8-43c4-95d7-baaef90bcfa2",
   "metadata": {},
   "outputs": [],
   "source": [
    "y = x * 2\n",
    "z = y * x # z = 2 * x ** 2 "
   ]
  },
  {
   "cell_type": "markdown",
   "id": "51a137c1-0533-4f9b-a623-d17587cce7ba",
   "metadata": {},
   "source": [
    "注意，backward只能用于标量上, 这里的z数出来是一个向量, 需要转成标量再反向传播, 即 z.sum().backward()"
   ]
  },
  {
   "cell_type": "code",
   "execution_count": 31,
   "id": "adc93674-4bfc-4fe9-a2b3-42eb570333d2",
   "metadata": {},
   "outputs": [],
   "source": [
    "z.sum().backward()"
   ]
  },
  {
   "cell_type": "code",
   "execution_count": 32,
   "id": "fe858660-3848-44d6-8f66-c2270793659f",
   "metadata": {},
   "outputs": [
    {
     "data": {
      "text/plain": [
       "tensor([[ 4.,  8.],\n",
       "        [12., 16.]])"
      ]
     },
     "execution_count": 32,
     "metadata": {},
     "output_type": "execute_result"
    }
   ],
   "source": [
    "x.grad # 获取x的导数"
   ]
  },
  {
   "cell_type": "markdown",
   "id": "c4fc50ff-9e16-4839-8618-c4a5821fcfaa",
   "metadata": {},
   "source": [
    "### 线性回归\n",
    "\n",
    "给定一个数据点集合X和对应的目标值y, 线性模型的目标是找一根线, 其由向量w和位移b组成, 用数学符号yhat表示预测值\n",
    "yhat = Xw + b \n",
    "最小化所有数据点上的平方误差\n",
    "sigma(pow(yhat(i) - y(i)) + ... pow(yhat(n) - y(n)))"
   ]
  },
  {
   "cell_type": "markdown",
   "id": "debd17d2-d003-4a02-8d9e-337624ffe5a9",
   "metadata": {},
   "source": [
    "创建数据集\n",
    "y[i] = 2 * x0 + 3.4 * x1 + 4.2 + noise\n",
    "noise 服从均值为0和方差为0.1的正太分布"
   ]
  },
  {
   "cell_type": "code",
   "execution_count": 299,
   "id": "dc9170d3-37bf-4823-ae1e-b54b8a8f3f1f",
   "metadata": {},
   "outputs": [],
   "source": [
    "num_inputs = 2 \n",
    "num_examples = 1000\n",
    "true_w = [2, 3.4]\n",
    "true_b = 4.2"
   ]
  },
  {
   "cell_type": "code",
   "execution_count": 300,
   "id": "9fa76ba3-2714-4fa7-86a2-3bc2f53fc59b",
   "metadata": {},
   "outputs": [],
   "source": [
    "X = torch.randn(1000, 2)"
   ]
  },
  {
   "cell_type": "code",
   "execution_count": 301,
   "id": "2dae100f-16a0-4806-a765-3bb199839e7c",
   "metadata": {},
   "outputs": [],
   "source": [
    "Y = true_w[0] * X[:, 0] + true_w[1] * X[:, 1] + true_b"
   ]
  },
  {
   "cell_type": "code",
   "execution_count": 302,
   "id": "3b70a6e5-ee5a-46aa-886e-dee9ae0c2f1f",
   "metadata": {},
   "outputs": [],
   "source": [
    "Y += 0.1 * torch.randn(Y.shape)"
   ]
  },
  {
   "cell_type": "markdown",
   "id": "e5d83250-1fba-40cc-8554-53d36f58af3c",
   "metadata": {},
   "source": [
    "### 数据读取\n",
    "当我们开始训练神经网络的时候, 我们需要不断的读取数据块。\n",
    "通过python的yield来构造一个迭代器。"
   ]
  },
  {
   "cell_type": "code",
   "execution_count": 303,
   "id": "19812df9-624c-42fc-bb5d-1d0335bcd293",
   "metadata": {},
   "outputs": [],
   "source": [
    "import random\n",
    "batch_size = 10\n",
    "def data_iter():\n",
    "    idx = list(range(num_examples))\n",
    "    random.shuffle(idx)\n",
    "    for i in range (0, num_examples, batch_size):\n",
    "        j = idx[i : min(i+batch_size, num_examples)]\n",
    "        yield X[j], Y[j]"
   ]
  },
  {
   "cell_type": "code",
   "execution_count": 304,
   "id": "5ba5b9a8-330d-4c8d-9dc2-fa15ec00f9c5",
   "metadata": {},
   "outputs": [],
   "source": [
    "x, y = next(data_iter())"
   ]
  },
  {
   "cell_type": "code",
   "execution_count": 305,
   "id": "6258648c-e7e7-4be7-a66e-d74707241c67",
   "metadata": {},
   "outputs": [
    {
     "data": {
      "text/plain": [
       "tensor([[ 0.2308,  1.4141],\n",
       "        [ 0.6318,  0.5003],\n",
       "        [ 0.5387,  0.3124],\n",
       "        [-1.9866,  0.1278],\n",
       "        [-0.1211, -0.6213],\n",
       "        [ 0.6104,  0.9932],\n",
       "        [ 0.8174,  0.5257],\n",
       "        [ 0.0466,  1.6091],\n",
       "        [ 0.5747, -0.9410],\n",
       "        [ 0.3665, -1.2202]])"
      ]
     },
     "execution_count": 305,
     "metadata": {},
     "output_type": "execute_result"
    }
   ],
   "source": [
    "x"
   ]
  },
  {
   "cell_type": "code",
   "execution_count": 306,
   "id": "b944d1e4-0d73-4940-8d83-60d1053a7c10",
   "metadata": {},
   "outputs": [
    {
     "data": {
      "text/plain": [
       "tensor([9.4122, 7.1353, 6.4539, 0.8080, 1.9595, 8.7703, 7.5319, 9.7548, 2.1617,\n",
       "        0.8375])"
      ]
     },
     "execution_count": 306,
     "metadata": {},
     "output_type": "execute_result"
    }
   ],
   "source": [
    "y"
   ]
  },
  {
   "cell_type": "markdown",
   "id": "0abed4ab-a53a-483f-9c7c-4215817a578a",
   "metadata": {},
   "source": [
    "### 初始化模型参数"
   ]
  },
  {
   "cell_type": "code",
   "execution_count": 307,
   "id": "c34d005c-dfff-42db-a664-1e992180811f",
   "metadata": {},
   "outputs": [],
   "source": [
    "w = torch.randn((2, 1), requires_grad=True)"
   ]
  },
  {
   "cell_type": "code",
   "execution_count": 308,
   "id": "b1de26d3-aa0d-4e7c-b597-f5e66314dae4",
   "metadata": {},
   "outputs": [],
   "source": [
    "b = torch.zeros((1,), requires_grad=True)"
   ]
  },
  {
   "cell_type": "code",
   "execution_count": 309,
   "id": "ac26c198-b88f-4ee0-82c4-97afce3cc9f0",
   "metadata": {},
   "outputs": [],
   "source": [
    "params = [w, b]"
   ]
  },
  {
   "cell_type": "markdown",
   "id": "54306e70-8692-4370-9f06-994a24de94bc",
   "metadata": {},
   "source": [
    "### 定义模型"
   ]
  },
  {
   "cell_type": "code",
   "execution_count": 310,
   "id": "62a48339-015e-441e-9740-8304e8b7ca7c",
   "metadata": {},
   "outputs": [],
   "source": [
    "def net(x):\n",
    "    return x @ w + b"
   ]
  },
  {
   "cell_type": "markdown",
   "id": "9a7649ac-bc8a-4816-b120-b0007f931cc4",
   "metadata": {},
   "source": [
    "### 损失函数"
   ]
  },
  {
   "cell_type": "code",
   "execution_count": 311,
   "id": "9f1a8b1c-1a9c-42a5-86d8-8b0d43581ddb",
   "metadata": {},
   "outputs": [],
   "source": [
    "def square_loss(yhat, y):\n",
    "    return (yhat - y.view(yhat.size())) ** 2"
   ]
  },
  {
   "cell_type": "markdown",
   "id": "58930817-4822-448a-bd31-191ddadc6f10",
   "metadata": {},
   "source": [
    "### 优化\n",
    "通过随机梯度下降求解，每一步，我们将模型参数沿着梯度的反方向走特定的距离，这个距离叫做学习率。\n",
    "\n"
   ]
  },
  {
   "cell_type": "code",
   "execution_count": 312,
   "id": "f360adc9-e41c-4f75-9745-06c7dc6a3cee",
   "metadata": {},
   "outputs": [],
   "source": [
    "def SGD(params, lr, batch_size):\n",
    "    for param in params:\n",
    "        param.data -= lr * param.grad / batch_size"
   ]
  },
  {
   "cell_type": "markdown",
   "id": "946c6a19-6ecc-452d-80a3-480d4faae0fb",
   "metadata": {},
   "source": [
    "### 训练"
   ]
  },
  {
   "cell_type": "code",
   "execution_count": 318,
   "id": "66227fb8-88a3-47a6-a55c-297470896a5c",
   "metadata": {},
   "outputs": [
    {
     "name": "stdout",
     "output_type": "stream",
     "text": [
      "epoch: 0, average_loss: 0.010231736116111279\n",
      "epoch: 1, average_loss: 0.010228591039776802\n",
      "epoch: 2, average_loss: 0.010221009142696857\n",
      "epoch: 3, average_loss: 0.01022170577198267\n",
      "epoch: 4, average_loss: 0.010225989855825901\n"
     ]
    }
   ],
   "source": [
    "epochs = 5 \n",
    "lr = .01\n",
    "for epoch in range(epochs):\n",
    "    total_loss = 0.0 \n",
    "    for data, label in data_iter():\n",
    "        output = net(data)\n",
    "        loss = square_loss(output, label)\n",
    "        loss = loss.sum()\n",
    "        total_loss+=loss\n",
    "        loss.backward()\n",
    "        SGD(params, lr, batch_size)\n",
    "        w.grad.data.zero_()\n",
    "        b.grad.data.zero_()\n",
    "    train_l = square_loss(net(X), Y)\n",
    "    print (f\"epoch: {epoch}, average_loss: {train_l.mean()}\")    \n",
    "\n",
    "\n"
   ]
  },
  {
   "cell_type": "code",
   "execution_count": 322,
   "id": "ab99dfc3-54e0-4e9b-bccb-ba02302c314e",
   "metadata": {},
   "outputs": [
    {
     "data": {
      "text/plain": [
       "tensor([[1.9993],\n",
       "        [3.4067]], requires_grad=True)"
      ]
     },
     "execution_count": 322,
     "metadata": {},
     "output_type": "execute_result"
    }
   ],
   "source": [
    "w"
   ]
  },
  {
   "cell_type": "code",
   "execution_count": 323,
   "id": "5c0ab22c-7633-49dd-9cb8-52d765728376",
   "metadata": {},
   "outputs": [
    {
     "data": {
      "text/plain": [
       "tensor([4.2003], requires_grad=True)"
      ]
     },
     "execution_count": 323,
     "metadata": {},
     "output_type": "execute_result"
    }
   ],
   "source": [
    "b"
   ]
  },
  {
   "cell_type": "code",
   "execution_count": null,
   "id": "4342b754-1a11-420d-8859-50067c97292a",
   "metadata": {},
   "outputs": [],
   "source": []
  }
 ],
 "metadata": {
  "kernelspec": {
   "display_name": "Python 3 (ipykernel)",
   "language": "python",
   "name": "python3"
  },
  "language_info": {
   "codemirror_mode": {
    "name": "ipython",
    "version": 3
   },
   "file_extension": ".py",
   "mimetype": "text/x-python",
   "name": "python",
   "nbconvert_exporter": "python",
   "pygments_lexer": "ipython3",
   "version": "3.10.13"
  }
 },
 "nbformat": 4,
 "nbformat_minor": 5
}
